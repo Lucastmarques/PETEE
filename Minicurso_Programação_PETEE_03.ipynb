{
  "nbformat": 4,
  "nbformat_minor": 0,
  "metadata": {
    "colab": {
      "name": "Minicurso_Programação_PETEE_03.ipynb",
      "version": "0.3.2",
      "provenance": [],
      "collapsed_sections": []
    },
    "kernelspec": {
      "name": "python3",
      "display_name": "Python 3"
    }
  },
  "cells": [
    {
      "cell_type": "markdown",
      "metadata": {
        "id": "oQYTtud3HmfO",
        "colab_type": "text"
      },
      "source": [
        "# Aula 03"
      ]
    },
    {
      "cell_type": "markdown",
      "metadata": {
        "id": "gaffuq2PHrMb",
        "colab_type": "text"
      },
      "source": [
        "Sejam bem vindos à **terceira** aula de lógica de programação oferecido pelo PETEE da UFRN, através do projeto de apoio pedagógico. Nessas aulas você irá aprender o que é Python3, tipos básicos de dados, entrada e saída de dados, estruturas condicionais, estruturas de repetição, listas e funções.\n",
        "\n",
        "Nessa terceira aula iremos abordar:\n",
        "\n",
        "* O que são Estruturas de Repetição\n",
        "* Laço `for`\n",
        "* Laço `While`\n"
      ]
    }
  ]
}