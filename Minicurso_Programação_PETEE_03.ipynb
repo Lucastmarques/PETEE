{
  "nbformat": 4,
  "nbformat_minor": 0,
  "metadata": {
    "colab": {
      "name": "Minicurso_Programação_PETEE_03.ipynb",
      "version": "0.3.2",
      "provenance": [],
      "collapsed_sections": []
    },
    "kernelspec": {
      "name": "python3",
      "display_name": "Python 3"
    }
  },
  "cells": [
    {
      "cell_type": "markdown",
      "metadata": {
        "id": "oQYTtud3HmfO",
        "colab_type": "text"
      },
      "source": [
        "# Aula 03"
      ]
    },
    {
      "cell_type": "markdown",
      "metadata": {
        "id": "gaffuq2PHrMb",
        "colab_type": "text"
      },
      "source": [
        "Sejam bem vindos à **terceira** aula de lógica de programação oferecido pelo PETEE da UFRN, através do projeto de apoio pedagógico. Nessas aulas você irá aprender o que é Python3, tipos básicos de dados, entrada e saída de dados, estruturas condicionais, estruturas de repetição, listas e funções.\n",
        "\n",
        "Nessa terceira aula iremos abordar:\n",
        "\n",
        "* O que são Estruturas de Repetição\n",
        "* Laço `for`\n",
        "* Laço `While`\n"
      ]
    },
    {
      "cell_type": "markdown",
      "metadata": {
        "id": "n75y0PuRHGey",
        "colab_type": "text"
      },
      "source": [
        "## O que são Estruturas de Repetição"
      ]
    },
    {
      "cell_type": "markdown",
      "metadata": {
        "id": "jLkaeHTyHJST",
        "colab_type": "text"
      },
      "source": [
        "Como o próprio nome sugere, uma estrutura de repetição é usada quando se quer repetir um bloco de comandos por um certo número de vezes. As estruturas mais famosas são:\n",
        "\n",
        "*   Laço `for`\n",
        "*   Laço `while`\n",
        "*   Laço `do-while`\n",
        "\n",
        "\n",
        "\n",
        "Infelizmente (ou felizmente) em Python não existe a estrutura `do-while`, mas a ideia é análoga ao laço `while`, a única diferença é que a condição é checada após a execução dos blocos de comando.\n",
        "\n",
        "Precisamos ter muito cuidado ao criar uma estrutura de repetição em nossos códigos, pois caso seja utilizada de forma incorreta podemos gerar alguns erros desagradáveis, como o overflow ou o looping infinito."
      ]
    },
    {
      "cell_type": "markdown",
      "metadata": {
        "id": "ghAPtOBIIBw_",
        "colab_type": "text"
      },
      "source": [
        "## Laço `for`"
      ]
    },
    {
      "cell_type": "markdown",
      "metadata": {
        "id": "pjMibFWmIZYg",
        "colab_type": "text"
      },
      "source": [
        "Provavelmente a estrutura de repetição mais utilizada pelos programadores, ela permite você percorrer uma sequência qualquer ou um intervalo numérico, que pode ser definido com o valor final e inicial (Ex.: (10, 20)) ou com o intervalo entre dois valores (Ex.: (10)), bem como podemos definir o passo dessa contagem.\n",
        "\n",
        "É importante ter em mente que um estrutura de repetição pode ser usada dentro de uma estrutura condicional, e vice-versa. Assim como podemos utilizar um laço `for` dentro de outro `for`. \n",
        "\n",
        "Vejamos os exemplos."
      ]
    },
    {
      "cell_type": "code",
      "metadata": {
        "id": "lg6iN5esJ6fG",
        "colab_type": "code",
        "colab": {}
      },
      "source": [
        "# Estrutura do laço for\n",
        "for variavel in range(valor inicial, valor final, passo)\n",
        "#ou\n",
        "for variavel in \"string qualquer\""
      ],
      "execution_count": 0,
      "outputs": []
    },
    {
      "cell_type": "markdown",
      "metadata": {
        "id": "zw6YkwLLJcBm",
        "colab_type": "text"
      },
      "source": [
        "### Exemplo 01"
      ]
    },
    {
      "cell_type": "markdown",
      "metadata": {
        "id": "enp1revRJdcb",
        "colab_type": "text"
      },
      "source": [
        "Neste exemplo, vamos imprimir o valor da tabuada de todos os números inteiros entre 1 e 10."
      ]
    },
    {
      "cell_type": "code",
      "metadata": {
        "id": "LENrJ2csJrMa",
        "colab_type": "code",
        "colab": {}
      },
      "source": [
        "#Criando o primeiro laço for\n",
        "for num1 in range(1, 11, 1):\n",
        "    \n",
        "    #Como o passo é um, podemos ocultar essa informação\n",
        "    for num2 in range(1, 11):\n",
        "        \n",
        "        print(str(num1), \"x\", str(num2), \"=\", num1*num2)\n",
        "    \n",
        "    print(\"\")\n",
        "        \n"
      ],
      "execution_count": 0,
      "outputs": []
    },
    {
      "cell_type": "markdown",
      "metadata": {
        "id": "NtseT8BjLBZz",
        "colab_type": "text"
      },
      "source": [
        "### Exemplo 02"
      ]
    },
    {
      "cell_type": "markdown",
      "metadata": {
        "id": "iGRAHyHzLEoK",
        "colab_type": "text"
      },
      "source": [
        "Neste exemplo, vamos imprimir todas as letras de uma palavra (string)."
      ]
    },
    {
      "cell_type": "code",
      "metadata": {
        "id": "viIwIehJLNtR",
        "colab_type": "code",
        "colab": {}
      },
      "source": [
        "#Criando laço for\n",
        "for x in \"Apoio Pedagógico\":\n",
        "    \n",
        "    print(x)"
      ],
      "execution_count": 0,
      "outputs": []
    },
    {
      "cell_type": "markdown",
      "metadata": {
        "id": "iIRlbW8hLbrf",
        "colab_type": "text"
      },
      "source": [
        "## Laço `while`"
      ]
    },
    {
      "cell_type": "markdown",
      "metadata": {
        "id": "OTVLGykTLeri",
        "colab_type": "text"
      },
      "source": [
        "Esse laço é bastante utilizado quando não sabemos ao certo onde nossa variável começa. Por exemplo, digamos que nós queremos imprimir uma sequência de números que vão de um certo valor até o 0, mas nós não sabemos qual é o primeiro número dessa sequência, uma vez que é o usuário que irá definir, tal que seria impossível utilizarmos o laço `for` para criar esse looping.\n",
        "\n",
        "Em suma, o laço `while` é utilizado para executar um bloco de comandos enquanto uma condição for verdadeira. Vamos para o exemplo."
      ]
    },
    {
      "cell_type": "markdown",
      "metadata": {
        "id": "STI8o1WsMdsh",
        "colab_type": "text"
      },
      "source": [
        "### Exemplo 03"
      ]
    },
    {
      "cell_type": "markdown",
      "metadata": {
        "id": "pJUphWddMf1b",
        "colab_type": "text"
      },
      "source": [
        "Vamos receber um número inteiro de um usuário e vamos gerar uma P.A. de razão -1, tal que o último termo dessa sequência seja 0."
      ]
    },
    {
      "cell_type": "code",
      "metadata": {
        "id": "y8GudRblMc7_",
        "colab_type": "code",
        "colab": {}
      },
      "source": [
        "# Armazenando o número inteiro do usuário\n",
        "prim_termo = int(input(\"Informe um número inteiro: \"))\n",
        "\n",
        "# Criando laço while para imprimir a P.A.\n",
        "while(prim_termo >= 0):\n",
        "    \n",
        "    print(prim_termo)\n",
        "\n",
        "    prim_termo -= 1"
      ],
      "execution_count": 0,
      "outputs": []
    },
    {
      "cell_type": "markdown",
      "metadata": {
        "id": "XS8PMGi9SqWO",
        "colab_type": "text"
      },
      "source": [
        "## Exercício de Fixação"
      ]
    },
    {
      "cell_type": "markdown",
      "metadata": {
        "id": "D8XPAqr4Ssme",
        "colab_type": "text"
      },
      "source": [
        "Desenvolva um programa que faça a tabuada de um número qualquer inteiro que será digitado pelo usuário, mas a tabuada não deve necessariamente iniciar em 1 e terminar em 10, o valor inicial e final devem ser informados também pelo usuário.\n",
        "\n",
        "**Entrada**\n",
        "\n",
        ">  5\n",
        "\n",
        ">  4\n",
        "\n",
        ">  5\n",
        "\n",
        "**Saída**\n",
        "\n",
        ">  5 x 4 = 20\n",
        "\n",
        ">  5 x 5 = 25\n",
        "\n",
        "\n",
        "\n"
      ]
    },
    {
      "cell_type": "markdown",
      "metadata": {
        "id": "CQWmMnsiUMO_",
        "colab_type": "text"
      },
      "source": [
        "### Exercício Bônus (Desafio)"
      ]
    },
    {
      "cell_type": "markdown",
      "metadata": {
        "id": "kv8AOi8FUPT7",
        "colab_type": "text"
      },
      "source": [
        "Em uma competição de ginástica, cada atleta recebe votos de sete jurados. A melhor e a pior nota são eliminadas. A sua nota fica sendo a média dos votos restantes. Você deve fazer um programa que receba o nome do ginasta e as notas dos sete jurados alcançadas pelo atleta em sua apresentação e depois informe a sua média, conforme a descrição acima informada (retirar o melhor e o pior salto e depois calcular a média com as notas restantes). As notas não são informados ordenadas. Um exemplo de saída do programa deve ser conforme o exemplo abaixo:\n",
        "\n",
        "\n",
        "\n",
        "```\n",
        "Atleta: Aparecido Parente\n",
        "Nota: 9.9\n",
        "Nota: 7.5\n",
        "Nota: 9.5\n",
        "Nota: 8.5\n",
        "Nota: 9.0\n",
        "Nota: 8.5\n",
        "Nota: 9.7\n",
        "\n",
        "Resultado final:\n",
        "Atleta: Aparecido Parente\n",
        "Melhor nota: 9.9\n",
        "Pior nota: 7.5\n",
        "Média: 9,04\n",
        "```\n",
        "\n"
      ]
    }
  ]
}