{
  "nbformat": 4,
  "nbformat_minor": 0,
  "metadata": {
    "colab": {
      "name": "Minicurso_Programação_PETEE_05.ipynb",
      "version": "0.3.2",
      "provenance": [],
      "collapsed_sections": []
    },
    "kernelspec": {
      "name": "python3",
      "display_name": "Python 3"
    }
  },
  "cells": [
    {
      "cell_type": "markdown",
      "metadata": {
        "id": "oQYTtud3HmfO",
        "colab_type": "text"
      },
      "source": [
        "# Aula 05"
      ]
    },
    {
      "cell_type": "markdown",
      "metadata": {
        "id": "gaffuq2PHrMb",
        "colab_type": "text"
      },
      "source": [
        "Sejam bem vindos à **quinta** aula de lógica de programação oferecido pelo PETEE da UFRN, através do projeto de apoio pedagógico. Nessas aulas você irá aprender o que é Python3, tipos básicos de dados, entrada e saída de dados, estruturas condicionais, estruturas de repetição, listas e funções.\n",
        "\n",
        "Nessa quinta aula iremos abordar:\n",
        "\n",
        "* O que são Funções\n",
        "* Criando Funções\n",
        "* Procedimentos\n"
      ]
    }
  ]
}