{
  "nbformat": 4,
  "nbformat_minor": 0,
  "metadata": {
    "colab": {
      "name": "Minicurso_Programação_PETEE_02.ipynb",
      "version": "0.3.2",
      "provenance": [],
      "collapsed_sections": [],
      "toc_visible": true
    },
    "kernelspec": {
      "name": "python3",
      "display_name": "Python 3"
    }
  },
  "cells": [
    {
      "cell_type": "markdown",
      "metadata": {
        "id": "XjtHDxgDuXEN",
        "colab_type": "text"
      },
      "source": [
        "# AULA 02"
      ]
    },
    {
      "cell_type": "markdown",
      "metadata": {
        "id": "vmPBuxTbuaCx",
        "colab_type": "text"
      },
      "source": [
        "Sejam bem vindos à **segunda** aula de lógica de programação oferecido pelo PETEE da UFRN, através do projeto de apoio pedagógico. Nessas aulas você irá aprender o que é Python3, tipos básicos de dados, entrada e saída de dados, estruturas condicionais, estruturas de repetição, listas e funções.\n",
        "\n",
        "Nessa segunda aula iremos abordar:\n",
        "\n",
        "* O que são Estruturas de Decisão\n",
        "* Estrutura `if`\n",
        "* Estrutura `if-else`\n",
        "* Estrutura `if-elif-else`"
      ]
    },
    {
      "cell_type": "markdown",
      "metadata": {
        "id": "OztVHy6VxTxc",
        "colab_type": "text"
      },
      "source": [
        "## O que são Estruturas de Decisão"
      ]
    },
    {
      "cell_type": "markdown",
      "metadata": {
        "id": "XUn9zOUsxZav",
        "colab_type": "text"
      },
      "source": [
        "No nosso cotidiano temos que fazer diversas escolhas, como o que vamos comer no almoço, se vamos para uma festa ou ficamos em casa estudando, se bebemos refrigerante ou água ou não bebemos nada, entre outras.\n",
        "\n",
        "A mesma coisa acontece quando queremos criar um algoritmo um pouco mais complexo. Para fazermos com que o computador escolha o que fazer, usaremos as chamadas estruturas de decisão que consiste na chamada de uma função e um parâmetro/argumento que se satisfeito outros comando serão executados, senão, esses comandos não são executados e o computador segue lendo as outras linhas de código.\n",
        "\n",
        "Existem duas principais estruturas de decisão, são eles `if` e `switch-case`. Como a segunda não é muito utilizada, focaremos os nossos esforços na estrutura `if`."
      ]
    },
    {
      "cell_type": "markdown",
      "metadata": {
        "id": "Y_AI_yrbzdB3",
        "colab_type": "text"
      },
      "source": [
        "## Estrutura `if`"
      ]
    },
    {
      "cell_type": "markdown",
      "metadata": {
        "id": "Hw840e_2zqr7",
        "colab_type": "text"
      },
      "source": [
        "Em resumo a estrutura `if` implementa uma condição do tipo \"Se ocorrer tal condição, execute um bloco de comandos\". Vejamos um exemplo."
      ]
    },
    {
      "cell_type": "markdown",
      "metadata": {
        "id": "XZHYmQMGz856",
        "colab_type": "text"
      },
      "source": [
        "### Exemplo 01"
      ]
    },
    {
      "cell_type": "markdown",
      "metadata": {
        "id": "IMJwKRImz-aL",
        "colab_type": "text"
      },
      "source": [
        "Neste exemplo iremos receber um número inteiro do usuário e verificar se ele é maior que 2."
      ]
    },
    {
      "cell_type": "code",
      "metadata": {
        "id": "ovyIWZye0MM5",
        "colab_type": "code",
        "colab": {}
      },
      "source": [
        "# Atribuindo um valor qualquer para a variável y\n",
        "y = int(input('Digite um número inteiro: '))\n",
        "\n",
        "# Utilizando o comando if para verificar se o número é positivo\n",
        "if (y > 2):\n",
        "    print('\\nO número é maior que dois!\\n')\n",
        "    print('Podemos utilizar mais de um comando dentro de um único if')\n",
        "    print(y, '+ 5 =', y+5)\n",
        "\n",
        "# Lembrando que em python a identação é extremamente importante\n",
        "print('\\nEste print está fora do if e será executado independente da condição')"
      ],
      "execution_count": 0,
      "outputs": []
    },
    {
      "cell_type": "markdown",
      "metadata": {
        "id": "-tEX7VSa16p3",
        "colab_type": "text"
      },
      "source": [
        "## Estrutura `if-else`"
      ]
    },
    {
      "cell_type": "markdown",
      "metadata": {
        "id": "Ipu_lVrI1-op",
        "colab_type": "text"
      },
      "source": [
        "Entretanto nós sabemos que nem tudo na vida se trata de apenas uma condição. Para implementarmos uma condição contrária à condição do comando `if` utilizaremos a função `else`, tal que o código será interpretado mais ou menos assim \"Se ocorrer tal condição, execute um bloco de comando. Senão ocorrer essa condição, execute esse outro bloco de comandos.\". Observe o exemplo."
      ]
    },
    {
      "cell_type": "markdown",
      "metadata": {
        "id": "U14tjNzD2cQP",
        "colab_type": "text"
      },
      "source": [
        "### Exemplo 02"
      ]
    },
    {
      "cell_type": "markdown",
      "metadata": {
        "id": "INLn0eOH2dxz",
        "colab_type": "text"
      },
      "source": [
        "Neste exemplo iremos verificar se um número inteiro fornecido pelo usuário é ou não é par."
      ]
    },
    {
      "cell_type": "code",
      "metadata": {
        "id": "SshL8ca06fi-",
        "colab_type": "code",
        "colab": {}
      },
      "source": [
        "# Atribuindo um valor a x\n",
        "x = int(input(\"Digite um número inteiro: \"))\n",
        "\n",
        "# Utilizando o comando if para verificar se o número é par\n",
        "if (x % 2 == 0):\n",
        "    print('\\n',x, 'é um número par!')\n",
        "\n",
        "# Utilizando o comando else para estabelcer um caso de condição contrária ao if\n",
        "else:\n",
        "    print('\\n',x, 'não é um número par, é ímpar!')\n",
        "    \n",
        "print('\\nNunca se esqueça da identação!!!')\n",
        "print('Esse bloco será impresso independentemente das condições!')"
      ],
      "execution_count": 0,
      "outputs": []
    },
    {
      "cell_type": "markdown",
      "metadata": {
        "id": "vGkDDVrU7_Qr",
        "colab_type": "text"
      },
      "source": [
        "## Estrutura `if-elif-else`"
      ]
    },
    {
      "cell_type": "markdown",
      "metadata": {
        "id": "kgG_Nr7w8PVc",
        "colab_type": "text"
      },
      "source": [
        "É verdade que muita coisa pode ser resolvida com apenas duas condições, mas no mundo real existem diversas situações que devemos checar mais de uma condição, por exemplo, quando queremos checar se uma pessoa é criança, adolescente, adulta ou idosa, uma das formas mais fáceis de descobrirmos é perguntando sua idade. \n",
        "\n",
        "Para esses casos onde precisamos de mais de duas condições para chegarmos em uma decisão, utilizaremos a função `elif`, que deve ser interpretada, tomando como base o exemplo anterior, mais ou menos assim: \"Se tal pessoa tem menos que 15 anos, ela é criança, senão se ela tem mais que 15 e menos que 18 ela é adolescente, senão se ela tem mais que 18 e menos de 60 ela é adulta, senão ela é idosa.\". Vejamos um exemplo de código para essa situação."
      ]
    },
    {
      "cell_type": "markdown",
      "metadata": {
        "id": "n8HH_SRu9Y4E",
        "colab_type": "text"
      },
      "source": [
        "### Exemplo 03\n"
      ]
    },
    {
      "cell_type": "markdown",
      "metadata": {
        "id": "7LBhNAPB9o3r",
        "colab_type": "text"
      },
      "source": [
        "Nesse exemplo iremos implementar um código que pede a idade do usuário e retorna em qual estágio da vida ele está."
      ]
    },
    {
      "cell_type": "code",
      "metadata": {
        "id": "nMiF5Uqc9zOA",
        "colab_type": "code",
        "colab": {}
      },
      "source": [
        "# Atribuindo um valor a idade\n",
        "idade = int(input(\"Digite sua idade: \"))\n",
        "\n",
        "# Verificando se o usuário é uma criança\n",
        "if(idade <= 15):\n",
        "    print('\\nVocê é uma criança!')\n",
        "\n",
        "# Verificando se o usuário é um adolescente\n",
        "elif(idade > 15 and idade <= 18):\n",
        "    print('\\nVocê é um adolescente!')\n",
        "\n",
        "# Verificando se o usuário é um adulto\n",
        "elif(idade > 18 and idade <= 60):\n",
        "    print('\\nVocê é um adulto!')\n",
        "\n",
        "# Verificando se o usuário é um idoso\n",
        "else:\n",
        "    print('\\nVocê é um idoso!')\n",
        "    \n",
        "# Perceba que no último utilizamos o comando else, já que se as outras\n",
        "# condições não forem satisfeita, o usuário só pode ser um idoso"
      ],
      "execution_count": 0,
      "outputs": []
    },
    {
      "cell_type": "markdown",
      "metadata": {
        "id": "_FbiZOaYAVfS",
        "colab_type": "text"
      },
      "source": [
        "## Exercício de Fixação"
      ]
    },
    {
      "cell_type": "markdown",
      "metadata": {
        "id": "xcA8kpeqAdCS",
        "colab_type": "text"
      },
      "source": [
        "Neste exercício você terá que checar se uma pessoa será aprovada, reprovada ou irá para a prova final na UFRN. Lembrando que as condições para uma pessoa ser aprovada é ter a média 5 e nenhuma nota menor que 3, ou ter média 7. Para uma pessoa ir para a prova final, basta ter média 3 ou mais. E para uma pessoa ser reprovada, basta ter média menor que 3\n",
        "\n",
        "**Entrada**\n",
        "\n",
        "Três números racionais (utilize variáveis do tipo `float`).\n",
        "\n",
        "**Saída**\n",
        "\n",
        "Se o usuário foi aprovado, reprovado ou está em recuperação."
      ]
    },
    {
      "cell_type": "markdown",
      "metadata": {
        "id": "b9f1fCY_BglP",
        "colab_type": "text"
      },
      "source": [
        "### Exemplo de Entrada e Saída para o exercício"
      ]
    },
    {
      "cell_type": "markdown",
      "metadata": {
        "id": "1y2rTHzNBpHb",
        "colab_type": "text"
      },
      "source": [
        "**Entrada**\n",
        "\n",
        "> 6 5 3\n",
        "\n",
        "**Saída**\n",
        "\n",
        "> Você está em recuperação.\n",
        "\n",
        "\n",
        "\n",
        "\n",
        "\n"
      ]
    }
  ]
}