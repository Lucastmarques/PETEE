{
  "nbformat": 4,
  "nbformat_minor": 0,
  "metadata": {
    "colab": {
      "name": "Minicurso_Programação_PETEE_01.ipynb",
      "version": "0.3.2",
      "provenance": [],
      "collapsed_sections": [
        "v9tch5eQZmqf",
        "YUsyK6y5j5cI",
        "Jo0Hx1DLkDKp",
        "1sdMA9MhmaYT",
        "6jps3kteIHfd",
        "nitQiQDIN59r",
        "C-hxsz0LD1I5",
        "XjtHDxgDuXEN",
        "OztVHy6VxTxc",
        "Y_AI_yrbzdB3",
        "-tEX7VSa16p3",
        "vGkDDVrU7_Qr",
        "_FbiZOaYAVfS"
      ],
      "toc_visible": true
    },
    "kernelspec": {
      "name": "python3",
      "display_name": "Python 3"
    }
  },
  "cells": [
    {
      "cell_type": "markdown",
      "metadata": {
        "id": "v9tch5eQZmqf",
        "colab_type": "text"
      },
      "source": [
        "# **AULA 01**"
      ]
    },
    {
      "cell_type": "markdown",
      "metadata": {
        "id": "XkVP7uNEgsHD",
        "colab_type": "text"
      },
      "source": [
        "Sejam bem vindos à **primeira** aula de lógica de programação oferecido pelo PETEE da UFRN, através do projeto de apoio pedagógico. Nessas aulas você irá aprender o que é Python3, tipos básicos de dados, entrada e saída de dados, estruturas condicionais, estruturas de repetição, listas e funções.\n",
        "\n",
        "Nessa primeira aula iremos abordar:\n",
        "\n",
        "* Introdução à programação em Python\n",
        "* Entrada e Saída de dados\n",
        "* Tipos básicos de dados\n",
        "* Operadores Matemáticos e Lógicos\n",
        "* Conversão de Dados"
      ]
    },
    {
      "cell_type": "markdown",
      "metadata": {
        "id": "YUsyK6y5j5cI",
        "colab_type": "text"
      },
      "source": [
        "## Introdução à Programação em Python"
      ]
    },
    {
      "cell_type": "markdown",
      "metadata": {
        "id": "TBzjKc1tajAd",
        "colab_type": "text"
      },
      "source": [
        "Como já sabemos, a programação pode ser simplificada como o ato de organizar instruções para um computador realizar. Porém, assim como qualquer comunicação, precisamos de uma linguagem comum entre o emissor, isto é, pessoa que emite a mensagem, e o receptor, pessoa que recebe a mensagem. Na programação a comunicação é feita entre pessoas e máquinas e, nessas aulas, utilizaremos a linguagem de programação Python para expressar nossas instruções.\n",
        "\n",
        "Python é uma linguagem de programação de propósito geral, que está cada vez mais popular no âmbito da Estatística e Aprendizado de Máquina, sendo muito utilizado na Ciência de Dados, principalmente pela facilidade na sintaxe e na manipulação de grandes conjuntos de dados."
      ]
    },
    {
      "cell_type": "markdown",
      "metadata": {
        "id": "Jo0Hx1DLkDKp",
        "colab_type": "text"
      },
      "source": [
        "## Entrada e Saída de dados"
      ]
    },
    {
      "cell_type": "markdown",
      "metadata": {
        "id": "lOr0wTknkoJi",
        "colab_type": "text"
      },
      "source": [
        "### Entrada de Dados"
      ]
    },
    {
      "cell_type": "markdown",
      "metadata": {
        "id": "nOGGmgb9kuCF",
        "colab_type": "text"
      },
      "source": [
        "Para armazenar informações e valores do usuário, basta usarmos a função `input()`."
      ]
    },
    {
      "cell_type": "markdown",
      "metadata": {
        "id": "ekbuSKXCkQSK",
        "colab_type": "text"
      },
      "source": [
        "### Saída de Dados"
      ]
    },
    {
      "cell_type": "markdown",
      "metadata": {
        "id": "4GQhGm99kWlu",
        "colab_type": "text"
      },
      "source": [
        "Para imprimir informações e valores para o usuário, basta usarmos a função `print()`."
      ]
    },
    {
      "cell_type": "markdown",
      "metadata": {
        "id": "ieq7OV2clAsF",
        "colab_type": "text"
      },
      "source": [
        "### Exemplo 01"
      ]
    },
    {
      "cell_type": "markdown",
      "metadata": {
        "id": "6sdxrJmMlDAq",
        "colab_type": "text"
      },
      "source": [
        "Nesse primeiro exemplo vamos imprimir uma informação para um usuário, receber uma informação que ele nos dará e logo em seguida imprimir essa informação."
      ]
    },
    {
      "cell_type": "code",
      "metadata": {
        "id": "ucJ8E245lTPP",
        "colab_type": "code",
        "colab": {}
      },
      "source": [
        "# É uma boa prática comentar e fazer anotações em seus códigos\n",
        "\n",
        "# Para isso, utilizaremos o símbolo \"#\" para identificarmos uma linha\n",
        "# de código como comentário\n",
        "\n",
        "print('Olá mundo!')\n",
        "print(\"Olá mundo de novo!\")\n",
        "\n",
        "info = input('Digite algo!: ')\n",
        "\n",
        "print(info)"
      ],
      "execution_count": 0,
      "outputs": []
    },
    {
      "cell_type": "markdown",
      "metadata": {
        "id": "1sdMA9MhmaYT",
        "colab_type": "text"
      },
      "source": [
        "## Tipos Básicos de Dados"
      ]
    },
    {
      "cell_type": "markdown",
      "metadata": {
        "id": "qsdZKitYnSU5",
        "colab_type": "text"
      },
      "source": [
        "Os tipos de dados identificam as caracterísitcas que um determinado dado possui e como ele se comprota. Os principais tipos são:\n",
        "\n",
        "\n",
        "*   Inteiros (`int`)\n",
        "*   Decimais/Pontos flutuantes (`float`)\n",
        "*   Booleanos (`boolean`)\n",
        "*   Sequências de Caracteres (`string`)"
      ]
    },
    {
      "cell_type": "markdown",
      "metadata": {
        "id": "ZrXaSoBzn260",
        "colab_type": "text"
      },
      "source": [
        "### Declaração de Variáveis"
      ]
    },
    {
      "cell_type": "markdown",
      "metadata": {
        "id": "957loBmSoAGw",
        "colab_type": "text"
      },
      "source": [
        "Em Python, a declaração da variável ocorre no ato de atribuição de valores. Essa atribuição acontece utilizando o operado `=`. "
      ]
    },
    {
      "cell_type": "markdown",
      "metadata": {
        "id": "TwCvp224oMZS",
        "colab_type": "text"
      },
      "source": [
        "### Exemplo 02"
      ]
    },
    {
      "cell_type": "markdown",
      "metadata": {
        "id": "ZyefBZQqoXHO",
        "colab_type": "text"
      },
      "source": [
        "Vamos declarar algumas variáveis, atribuindo valores à elas e, logo em seguida, imprimir seus valores."
      ]
    },
    {
      "cell_type": "code",
      "metadata": {
        "id": "PnZUXefjoLnO",
        "colab_type": "code",
        "outputId": "4b0e293d-b3bd-45c2-f01e-101d9e1cbf6b",
        "colab": {
          "base_uri": "https://localhost:8080/",
          "height": 108
        }
      },
      "source": [
        "# Declarando uma variável do tipo inteiro\n",
        "num_int = 7\n",
        "\n",
        "# Declarando uma varável do tipo decimail\n",
        "num_float = 9.87\n",
        "\n",
        "# Declarando variáveis booleanas\n",
        "boolean_yes = True\n",
        "boolean_no = False\n",
        "\n",
        "# Declarando variáveis strings\n",
        "texto = \"Parabéns pelos 12 anos, PETEE!\"\n",
        "\n",
        "\n",
        "# Imprimindo as variáveis\n",
        "print(num_int)\n",
        "print(num_float)\n",
        "print(boolean_yes)\n",
        "print(boolean_no)\n",
        "print(texto)"
      ],
      "execution_count": 0,
      "outputs": [
        {
          "output_type": "stream",
          "text": [
            "5\n",
            "9.87\n",
            "True\n",
            "False\n",
            "Parabéns pelos 12 anos, PETEE!\n"
          ],
          "name": "stdout"
        }
      ]
    },
    {
      "cell_type": "markdown",
      "metadata": {
        "id": "rmaT9kunHKwT",
        "colab_type": "text"
      },
      "source": [
        "### Verificando o Tipo de uma Variável qualquer\n"
      ]
    },
    {
      "cell_type": "markdown",
      "metadata": {
        "id": "QTmeTd9NHTs9",
        "colab_type": "text"
      },
      "source": [
        "Para verificar o tipo de uma variável, basta utilizar o comando `type()`."
      ]
    },
    {
      "cell_type": "markdown",
      "metadata": {
        "id": "IzBUcmgrHfwl",
        "colab_type": "text"
      },
      "source": [
        "### Exemplo 03"
      ]
    },
    {
      "cell_type": "code",
      "metadata": {
        "id": "ta4DJsYlHjV6",
        "colab_type": "code",
        "outputId": "325257d1-0a52-4d58-cb43-e470f04fbc59",
        "colab": {
          "base_uri": "https://localhost:8080/",
          "height": 108
        }
      },
      "source": [
        "# Vamos utilizar o comando type() nas variáveis utilizadas anteriormente e\n",
        "# imprimir o seu tipo\n",
        "\n",
        "print(type(num_int))\n",
        "print(type(num_float))\n",
        "print(type(boolean_yes))\n",
        "print(type(boolean_no))\n",
        "print(type(texto))"
      ],
      "execution_count": 0,
      "outputs": [
        {
          "output_type": "stream",
          "text": [
            "<class 'int'>\n",
            "<class 'float'>\n",
            "<class 'bool'>\n",
            "<class 'bool'>\n",
            "<class 'str'>\n"
          ],
          "name": "stdout"
        }
      ]
    },
    {
      "cell_type": "markdown",
      "metadata": {
        "id": "6jps3kteIHfd",
        "colab_type": "text"
      },
      "source": [
        "## Operações Básicas"
      ]
    },
    {
      "cell_type": "markdown",
      "metadata": {
        "id": "K3FqJPqlIMKt",
        "colab_type": "text"
      },
      "source": [
        "As operações básicas em Python são similares à forma escrita. Os operadores `+ - * /` representam respectivamente uma soma, subtração, multiplicação e divisão."
      ]
    },
    {
      "cell_type": "markdown",
      "metadata": {
        "id": "-C8xWKB5Iktm",
        "colab_type": "text"
      },
      "source": [
        "### Exemplo 04"
      ]
    },
    {
      "cell_type": "markdown",
      "metadata": {
        "id": "sY_McnpTIv2a",
        "colab_type": "text"
      },
      "source": [
        "Vamos realizar as operações citadas acima."
      ]
    },
    {
      "cell_type": "code",
      "metadata": {
        "id": "EQwYhhi7Itqd",
        "colab_type": "code",
        "outputId": "a807400a-b613-4696-a563-5daf189b6b51",
        "colab": {
          "base_uri": "https://localhost:8080/",
          "height": 108
        }
      },
      "source": [
        "# Realizando a soma entre dois valores\n",
        "print('Soma: ', 2 + 5)\n",
        "\n",
        "# Realizando a subtração entre dois valores utilizando variáveis\n",
        "x = 3\n",
        "y = 8\n",
        "\n",
        "print('Subtração: ', x - y)\n",
        "print('Subtração: ', y - x)\n",
        "\n",
        "# Realizando uma multiplicação e divisão entre as variáveis\n",
        "print('Divisões: ', x/3, 'e', y//3)\n",
        "print('Multiplicação: ', x * y)"
      ],
      "execution_count": 0,
      "outputs": [
        {
          "output_type": "stream",
          "text": [
            "Soma:  7\n",
            "Subtração:  -5\n",
            "Subtração:  5\n",
            "Divisões:  1.0 e 2\n",
            "Multiplicação:  24\n"
          ],
          "name": "stdout"
        }
      ]
    },
    {
      "cell_type": "markdown",
      "metadata": {
        "id": "StZdBM_wLbvc",
        "colab_type": "text"
      },
      "source": [
        "Além dessas operações, existem a operação de módulo, que calcula o resto de uma divisão entre dois números, e a de potenciação, dadas pelos símbolos `%` e `**` respectivamente."
      ]
    },
    {
      "cell_type": "markdown",
      "metadata": {
        "id": "WV9F6vF9L-9k",
        "colab_type": "text"
      },
      "source": [
        "### Exemplo 05"
      ]
    },
    {
      "cell_type": "code",
      "metadata": {
        "id": "UB2jGtHIMKal",
        "colab_type": "code",
        "outputId": "63c2adcb-09e0-4983-8cf1-be3dcdc5fbf7",
        "colab": {
          "base_uri": "https://localhost:8080/",
          "height": 90
        }
      },
      "source": [
        "# Realizando a potência entre dois números\n",
        "print(x ** 2)\n",
        "print(y ** x)\n",
        "\n",
        "# Realizando a operação de módulo\n",
        "print(x % 3)\n",
        "print(y % x)"
      ],
      "execution_count": 0,
      "outputs": [
        {
          "output_type": "stream",
          "text": [
            "9\n",
            "512\n",
            "0\n",
            "2\n"
          ],
          "name": "stdout"
        }
      ]
    },
    {
      "cell_type": "markdown",
      "metadata": {
        "id": "nitQiQDIN59r",
        "colab_type": "text"
      },
      "source": [
        "## Operadores Lógicos"
      ]
    },
    {
      "cell_type": "markdown",
      "metadata": {
        "id": "4DhgA6BUOGFt",
        "colab_type": "text"
      },
      "source": [
        "Duas ou mais variáveis podem ser comparadas através dos seguintes operadores lógicos:\n",
        "\n",
        "\n",
        "*   Igualdade:    `==`\n",
        "*   Diferente:    `!=`\n",
        "*   Maior que:    `>`\n",
        "*   Menor que:    `<`\n",
        "*   Menor ou igual a: `<=`\n",
        "*   Maior ou igual a: `>=`\n",
        "\n",
        "\n",
        "Após serem comparadas, o resultado sempre será um valor booleano, como no exemplo abaixo.\n"
      ]
    },
    {
      "cell_type": "markdown",
      "metadata": {
        "id": "rcdyca_XO5X1",
        "colab_type": "text"
      },
      "source": [
        "### Exemplo 06"
      ]
    },
    {
      "cell_type": "markdown",
      "metadata": {
        "id": "tBgUHL5xO9lj",
        "colab_type": "text"
      },
      "source": [
        "Vamos comparar dois número/variáveis e imprimir seus resultados."
      ]
    },
    {
      "cell_type": "code",
      "metadata": {
        "id": "hwc595zyO8NH",
        "colab_type": "code",
        "outputId": "7a464454-dc53-4bb1-cd06-8209357d3945",
        "colab": {
          "base_uri": "https://localhost:8080/",
          "height": 199
        }
      },
      "source": [
        "# Comparando dois números\n",
        "print(5 == 2)\n",
        "print(5 != 2)\n",
        "print(8 > 7)\n",
        "print(9 < 0)\n",
        "print(9 >= 7)\n",
        "print(6 <= 6)\n",
        "\n",
        "# Comparando duas variáveis\n",
        "x = 3\n",
        "y = 8\n",
        "\n",
        "print(x > y)\n",
        "print(y == x)\n",
        "print(y >= x)\n",
        "\n",
        "# Podemos atribuir o resultado de uma comparação a uma variável\n",
        "# e logo em seguida imprimi-la\n",
        "c = x >= y\n",
        "print(c)"
      ],
      "execution_count": 0,
      "outputs": [
        {
          "output_type": "stream",
          "text": [
            "False\n",
            "True\n",
            "True\n",
            "False\n",
            "True\n",
            "True\n",
            "False\n",
            "False\n",
            "True\n",
            "False\n"
          ],
          "name": "stdout"
        }
      ]
    },
    {
      "cell_type": "markdown",
      "metadata": {
        "id": "3WBGeh_gQ-Rz",
        "colab_type": "text"
      },
      "source": [
        "Além desses operadores lógicos, o Python dispõe de outros operadores específicos para comparações entre duas variáveis booleanas, sendo eles:\n",
        "\n",
        "\n",
        "*   `and`\n",
        "*   `or`\n",
        "*   `not`\n",
        "\n"
      ]
    },
    {
      "cell_type": "markdown",
      "metadata": {
        "id": "1KKaRiwqBR3u",
        "colab_type": "text"
      },
      "source": [
        "### Exemplo 07"
      ]
    },
    {
      "cell_type": "markdown",
      "metadata": {
        "id": "T0PeYagXBh-p",
        "colab_type": "text"
      },
      "source": [
        "Comparando alguns resultados booleanos."
      ]
    },
    {
      "cell_type": "code",
      "metadata": {
        "id": "xyUvKbe0BoQc",
        "colab_type": "code",
        "outputId": "2a22d8a6-3faa-43f1-87f2-ee054ca678e1",
        "colab": {
          "base_uri": "https://localhost:8080/",
          "height": 126
        }
      },
      "source": [
        "#Declarando variáveis\n",
        "x = 8\n",
        "y = 6\n",
        "z = 6\n",
        "PET = 'Tutoria'\n",
        "UFRN = 'Universidade'\n",
        "\n",
        "#Verificando se duas variáveis tem um certo valor em comum\n",
        "print((x == 8) and (y == 8))\n",
        "\n",
        "#Verificando se ao menos uma variável tem um certo valor\n",
        "print((x == 8) or (y == 8))\n",
        "\n",
        "#Verificando se uma variável não tem um certo valor\n",
        "print(not(x == 7))\n",
        "\n",
        "#Verificando se todas as variáveis são maiores que 5\n",
        "print(x > 5 and y > 5 and z > 5)\n",
        "\n",
        "#Verificando se duas strings são iguais\n",
        "print(PET == UFRN, PET != UFRN)\n",
        "\n",
        "#Verificando se uma string é maior que a outra\n",
        "print(PET > UFRN)"
      ],
      "execution_count": 0,
      "outputs": [
        {
          "output_type": "stream",
          "text": [
            "False\n",
            "True\n",
            "True\n",
            "True\n",
            "False True\n",
            "False\n"
          ],
          "name": "stdout"
        }
      ]
    },
    {
      "cell_type": "markdown",
      "metadata": {
        "id": "C-hxsz0LD1I5",
        "colab_type": "text"
      },
      "source": [
        "## Conversão de Dados"
      ]
    },
    {
      "cell_type": "markdown",
      "metadata": {
        "id": "tu_GxVBVEWpV",
        "colab_type": "text"
      },
      "source": [
        "Para verificarmos um tipo de dado em python utilizamos a função `type()`. Além disso, é possível mudarmos os tipos de dados utilizando as funções `int()`, `str()`, `float()`, `boolean()`, entre outras. Observe o Exemplo 08."
      ]
    },
    {
      "cell_type": "markdown",
      "metadata": {
        "id": "Lfw-a1c0ExG8",
        "colab_type": "text"
      },
      "source": [
        "### Exemplo 08"
      ]
    },
    {
      "cell_type": "markdown",
      "metadata": {
        "id": "XvM2R0K0EzpS",
        "colab_type": "text"
      },
      "source": [
        "Imprimindo o tipo de uma variável e mudando o tipo de dado contido nela."
      ]
    },
    {
      "cell_type": "code",
      "metadata": {
        "id": "-ZRvCb3RE5MO",
        "colab_type": "code",
        "outputId": "359d98f2-0b65-463b-84cb-586807a2a40e",
        "colab": {
          "base_uri": "https://localhost:8080/",
          "height": 126
        }
      },
      "source": [
        "# Guardando um número qualquer do usuário na variável num\n",
        "num = input('Digite um número: \\n')\n",
        "\n",
        "# Verificando o tipo de variável\n",
        "print(type(num))\n",
        "\n",
        "# Convertendo a variável para o tipo inteiro\n",
        "inteiro = int(num)\n",
        "print(type(inteiro))\n",
        "\n",
        "# Convertendo a variável para o tipo float\n",
        "decimal = float(inteiro)\n",
        "print(type(decimal))\n",
        "\n",
        "decimal = float(num)\n",
        "print(type(decimal))"
      ],
      "execution_count": 0,
      "outputs": [
        {
          "output_type": "stream",
          "text": [
            "Digite um número: \n",
            "5\n",
            "<class 'str'>\n",
            "<class 'int'>\n",
            "<class 'float'>\n",
            "<class 'float'>\n"
          ],
          "name": "stdout"
        }
      ]
    },
    {
      "cell_type": "markdown",
      "metadata": {
        "id": "ZDOnhQykF73s",
        "colab_type": "text"
      },
      "source": [
        "## Exercício de Fixação"
      ]
    },
    {
      "cell_type": "markdown",
      "metadata": {
        "id": "tQkP0VNRGAVj",
        "colab_type": "text"
      },
      "source": [
        "O exercício proposto é que você peça dois números de um usuário e faça, respectivamente, a soma, subtração, divisão e multiplicação do primeiro pelo segundo, imprimindo cada resultado. Além disso, você terá que dizer se os dois números são iguais.\n",
        "\n",
        "**Entrada**\n",
        "\n",
        "Dois números inteiros.\n",
        "\n",
        "**Saída**\n",
        "\n",
        "Soma, subtração, divisão e multiplicação."
      ]
    },
    {
      "cell_type": "markdown",
      "metadata": {
        "id": "AQcnXQpoG6xM",
        "colab_type": "text"
      },
      "source": [
        "### Exemplo de Entrada e Saída para o exercício\n"
      ]
    },
    {
      "cell_type": "markdown",
      "metadata": {
        "id": "G0y-V1SXHDqk",
        "colab_type": "text"
      },
      "source": [
        "**Entrada**\n",
        "\n",
        "> *6 2*\n",
        "\n",
        "**Saída**\n",
        "\n",
        "> *Soma: 8*\n",
        "\n",
        "> *Subtração: 4*\n",
        "\n",
        "> *Divisão: 3*\n",
        "\n",
        "> *Multiplicação: 12*\n",
        "\n",
        "> *Os números são iguais: False*"
      ]
    }
  ]
}